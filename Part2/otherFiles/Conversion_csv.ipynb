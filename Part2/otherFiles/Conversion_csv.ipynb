{
 "cells": [
  {
   "cell_type": "markdown",
   "metadata": {},
   "source": [
    "# Script for converting the output of MR to a csv file"
   ]
  },
  {
   "cell_type": "markdown",
   "metadata": {},
   "source": [
    "Script for converting the text file to a csv file"
   ]
  },
  {
   "cell_type": "markdown",
   "metadata": {},
   "source": [
    "Generating the csv files for Top 30 words and entire set"
   ]
  },
  {
   "cell_type": "markdown",
   "metadata": {},
   "source": [
    "The script generates a unigram and bigram"
   ]
  },
  {
   "cell_type": "code",
   "execution_count": 2,
   "metadata": {},
   "outputs": [
    {
     "name": "stdout",
     "output_type": "stream",
     "text": [
      "done\n"
     ]
    }
   ],
   "source": [
    "import pandas as pd\n",
    "unigram = open(\"C:/Users/nallu/OneDrive/Documents/Semester2/DataIntensivecomputing/Lab2/Final/cc_cooccur\", \"r\") \n",
    "bigram  = open(\"C:/Users/nallu/OneDrive/Documents/Semester2/DataIntensivecomputing/Lab2/Final/cc_cooccur\", \"r\")\n",
    "arr1 = []\n",
    "for i in unigram.readlines():  \n",
    "    arr1.append(i.split())\n",
    "df1=pd.DataFrame(arr1)\n",
    "mask = (df1[0].str.len() >=3) #filtering out the words whose length is less than 3\n",
    "df1=df1.loc[mask] \n",
    "df1[1]=df1[1].astype('int')\n",
    "df2=df1.sort_values(1, ascending=False).reset_index(drop=True)\n",
    "MostFreq=df2.loc[0:30,] #collecting top words\n",
    "MostFreq = list(MostFreq[0])\n",
    "df2.to_csv('cc1com_top.csv')\n",
    "a=[]\n",
    "for i in bigram.readlines():\n",
    "    if len(i.split()[0]) >=3 and len(i.split()[1]) >=3:\n",
    "        a.append([\" \".join(i.split()[:2]), int(i.split()[-1])])\n",
    "df3=pd.DataFrame(a)\n",
    "arr2 = []\n",
    "for i in df3.index:\n",
    "    if df3[0][i].split()[0] in MostFreq or df3[0][i].split()[1] in MostFreq:\n",
    "        arr2.append([df3[0][i],df3[1][i]])\n",
    "df4 = pd.DataFrame(arr2).sort_values(1,ascending=False).reset_index(drop=True)\n",
    "df4.to_csv('cc2com2_top.csv',index=False)\n",
    "print('done')\n"
   ]
  },
  {
   "cell_type": "code",
   "execution_count": null,
   "metadata": {},
   "outputs": [],
   "source": []
  }
 ],
 "metadata": {
  "kernelspec": {
   "display_name": "Python 3",
   "language": "python",
   "name": "python3"
  },
  "language_info": {
   "codemirror_mode": {
    "name": "ipython",
    "version": 3
   },
   "file_extension": ".py",
   "mimetype": "text/x-python",
   "name": "python",
   "nbconvert_exporter": "python",
   "pygments_lexer": "ipython3",
   "version": "3.6.8"
  }
 },
 "nbformat": 4,
 "nbformat_minor": 2
}
